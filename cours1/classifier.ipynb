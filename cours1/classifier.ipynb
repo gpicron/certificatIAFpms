{
  "nbformat": 4,
  "nbformat_minor": 0,
  "metadata": {
    "colab": {
      "name": "cours1_classifier.ipynb",
      "version": "0.3.2",
      "provenance": [],
      "collapsed_sections": [],
      "include_colab_link": true
    },
    "kernelspec": {
      "name": "python3",
      "display_name": "Python 3"
    },
    "accelerator": "GPU"
  },
  "cells": [
    {
      "cell_type": "markdown",
      "metadata": {
        "id": "view-in-github",
        "colab_type": "text"
      },
      "source": [
        "[View in Colaboratory](https://colab.research.google.com/github/gpicron/certificatIAFpms/blob/master/cours1/classifier.ipynb)"
      ]
    },
    {
      "metadata": {
        "id": "vZ9QHQoiHNKH",
        "colab_type": "text"
      },
      "cell_type": "markdown",
      "source": [
        "# Cours 1 - partie 2 classifieur"
      ]
    },
    {
      "metadata": {
        "id": "hNSI7pvDHFwu",
        "colab_type": "code",
        "colab": {}
      },
      "cell_type": "code",
      "source": [
        "from keras.models import Sequential\n",
        "from keras.layers import Dense, Activation, Conv2D, MaxPool2D, Flatten, Dropout\n",
        "from keras.utils import np_utils"
      ],
      "execution_count": 0,
      "outputs": []
    },
    {
      "metadata": {
        "id": "eGpNGSZIH61y",
        "colab_type": "code",
        "colab": {}
      },
      "cell_type": "code",
      "source": [
        "import numpy as np\n",
        "np.random.seed(2017)"
      ],
      "execution_count": 0,
      "outputs": []
    },
    {
      "metadata": {
        "id": "fWJBIsvtJUuy",
        "colab_type": "code",
        "colab": {}
      },
      "cell_type": "code",
      "source": [
        "import cv2\n",
        "from matplotlib import pyplot as plt"
      ],
      "execution_count": 0,
      "outputs": []
    },
    {
      "metadata": {
        "id": "bvOOsO2qIVfI",
        "colab_type": "text"
      },
      "cell_type": "markdown",
      "source": [
        "## Télécharger la base mnist de Keras"
      ]
    },
    {
      "metadata": {
        "id": "jkxNGmMeIOzL",
        "colab_type": "code",
        "colab": {
          "base_uri": "https://localhost:8080/",
          "height": 51
        },
        "outputId": "c4a45a57-13b9-461f-b4b9-56e1e692bc1d"
      },
      "cell_type": "code",
      "source": [
        "from keras.datasets import mnist\n",
        "\n",
        "(x_train, y_train), (x_test, y_test) = mnist.load_data()"
      ],
      "execution_count": 11,
      "outputs": [
        {
          "output_type": "stream",
          "text": [
            "Downloading data from https://s3.amazonaws.com/img-datasets/mnist.npz\n",
            "11493376/11490434 [==============================] - 7s 1us/step\n"
          ],
          "name": "stdout"
        }
      ]
    },
    {
      "metadata": {
        "id": "KuZwxDuLIrg0",
        "colab_type": "code",
        "colab": {
          "base_uri": "https://localhost:8080/",
          "height": 398
        },
        "outputId": "44ba832d-5b87-46be-c9c1-d3bca10d6802"
      },
      "cell_type": "code",
      "source": [
        "print(x_train.shape[0])\n",
        "print(x_train.shape[1])\n",
        "print(x_train.shape[2])\n",
        "px = x_train[50000] # les val de l'image 50000\n",
        "plt.xticks([]), plt.yticks([])\n",
        "plt.imshow(px)"
      ],
      "execution_count": 21,
      "outputs": [
        {
          "output_type": "stream",
          "text": [
            "60000\n",
            "28\n",
            "28\n"
          ],
          "name": "stdout"
        },
        {
          "output_type": "execute_result",
          "data": {
            "text/plain": [
              "<matplotlib.image.AxesImage at 0x7f07daef70f0>"
            ]
          },
          "metadata": {
            "tags": []
          },
          "execution_count": 21
        },
        {
          "output_type": "display_data",
          "data": {
            "image/png": "[encoded data removed]",
            "text/plain": [
              "<matplotlib.figure.Figure at 0x7f07dd7d9e10>"
            ]
          },
          "metadata": {
            "tags": []
          }
        }
      ]
    },
    {
      "metadata": {
        "id": "5m04PtFmKHXn",
        "colab_type": "text"
      },
      "cell_type": "markdown",
      "source": [
        "## Préparation des données\n",
        "\n",
        "\n"
      ]
    },
    {
      "metadata": {
        "id": "UN1A5XELKHKV",
        "colab_type": "code",
        "colab": {}
      },
      "cell_type": "code",
      "source": [
        "def clean(data):\n",
        "  # reshape image data\n",
        "  clean_data = data.reshape(data.shape[0], data.shape[1] * data.shape[2])\n",
        "  # normalize data\n",
        "  clean_data = clean_data.astype('float32') / 255\n",
        "  \n",
        "  return clean_data\n",
        "\n",
        "x_train_clean = clean(x_train)\n",
        "x_test_clean = clean(x_test)"
      ],
      "execution_count": 0,
      "outputs": []
    },
    {
      "metadata": {
        "id": "YzJrhJ3JLnxj",
        "colab_type": "code",
        "colab": {}
      },
      "cell_type": "code",
      "source": [
        "# one hot encoding : example converrt 5 class label to (0,0,0,0,0,1,0,0,0,0)\n",
        "nb_classes = 10\n",
        "y_train_clean = np_utils.to_categorical(y_train, nb_classes)\n",
        "y_test_clean = np_utils.to_categorical(y_test, nb_classes)\n"
      ],
      "execution_count": 0,
      "outputs": []
    },
    {
      "metadata": {
        "id": "pzBqvYw9M1kF",
        "colab_type": "code",
        "colab": {
          "base_uri": "https://localhost:8080/",
          "height": 381
        },
        "outputId": "0eef0d55-b42e-4813-97af-740b2f01d697"
      },
      "cell_type": "code",
      "source": [
        "print(x_train_clean.shape[0])\n",
        "print(x_train_clean.shape[1])\n",
        "\n",
        "px = x_train_clean[50000] # les val de l'image 50000\n",
        "plt.xticks([]), plt.yticks([])\n",
        "plt.imshow(x_train_clean)"
      ],
      "execution_count": 28,
      "outputs": [
        {
          "output_type": "stream",
          "text": [
            "60000\n",
            "784\n"
          ],
          "name": "stdout"
        },
        {
          "output_type": "execute_result",
          "data": {
            "text/plain": [
              "<matplotlib.image.AxesImage at 0x7f07dadb2470>"
            ]
          },
          "metadata": {
            "tags": []
          },
          "execution_count": 28
        },
        {
          "output_type": "display_data",
          "data": {
            "image/png": "[encoded data removed]",
            "text/plain": [
              "<matplotlib.figure.Figure at 0x7f07daeae2e8>"
            ]
          },
          "metadata": {
            "tags": []
          }
        }
      ]
    },
    {
      "metadata": {
        "id": "x0MxNmVrNO0e",
        "colab_type": "text"
      },
      "cell_type": "markdown",
      "source": [
        "## Définir le modèle de base et l'entraîner"
      ]
    },
    {
      "metadata": {
        "id": "oEq85_eyNL_G",
        "colab_type": "code",
        "colab": {
          "base_uri": "https://localhost:8080/",
          "height": 85
        },
        "outputId": "15639164-d5b4-4cc7-c96f-d0864ef970ac"
      },
      "cell_type": "code",
      "source": [
        "model0 = Sequential()\n",
        "\n",
        "model0.add(Dense(nb_classes, input_dim=x_train_clean.shape[1]))\n",
        "model0.add(Activation('softmax'))\n",
        "\n",
        "model0.compile(loss='categorical_crossentropy',\n",
        "              optimizer='sgd',\n",
        "              metrics=['accuracy'])\n",
        "\n",
        "model0.fit(x_train_clean, y_train_clean, epochs=1)\n",
        "\n",
        "score0 = model0.evaluate(x_test_clean, y_test_clean)\n",
        "\n",
        "print(\"accuracy: \", score0)"
      ],
      "execution_count": 38,
      "outputs": [
        {
          "output_type": "stream",
          "text": [
            "Epoch 1/1\n",
            "60000/60000 [==============================] - 7s 115us/step - loss: 0.7684 - acc: 0.8212\n",
            "10000/10000 [==============================] - 1s 61us/step\n",
            "accuracy:  [0.4771377581357956, 0.883]\n"
          ],
          "name": "stdout"
        }
      ]
    },
    {
      "metadata": {
        "id": "n-SRz1WvNlEU",
        "colab_type": "code",
        "colab": {
          "base_uri": "https://localhost:8080/",
          "height": 731
        },
        "outputId": "bd2f0a38-2c69-4dc0-9d26-3ca05780cf3d"
      },
      "cell_type": "code",
      "source": [
        "model1 = Sequential()\n",
        "\n",
        "model1.add(Dense(nb_classes, input_dim=x_train_clean.shape[1]))\n",
        "model1.add(Activation('softmax'))\n",
        "\n",
        "model1.compile(loss='categorical_crossentropy',\n",
        "              optimizer='sgd',\n",
        "              metrics=['accuracy'])\n",
        "\n",
        "model1.fit(x_train_clean, y_train_clean, epochs=20)\n",
        "\n",
        "score1 = model1.evaluate(x_test_clean, y_test_clean)\n",
        "\n",
        "print(\"accuracy: \", score1)"
      ],
      "execution_count": 40,
      "outputs": [
        {
          "output_type": "stream",
          "text": [
            "Epoch 1/20\n",
            "60000/60000 [==============================] - 7s 118us/step - loss: 0.7750 - acc: 0.8184\n",
            "Epoch 2/20\n",
            "60000/60000 [==============================] - 7s 116us/step - loss: 0.4554 - acc: 0.8810\n",
            "Epoch 3/20\n",
            "60000/60000 [==============================] - 7s 116us/step - loss: 0.4028 - acc: 0.8917\n",
            "Epoch 4/20\n",
            "60000/60000 [==============================] - 7s 115us/step - loss: 0.3765 - acc: 0.8972\n",
            "Epoch 5/20\n",
            "60000/60000 [==============================] - 7s 116us/step - loss: 0.3598 - acc: 0.9015\n",
            "Epoch 6/20\n",
            "60000/60000 [==============================] - 7s 116us/step - loss: 0.3480 - acc: 0.9038\n",
            "Epoch 7/20\n",
            "60000/60000 [==============================] - 7s 116us/step - loss: 0.3392 - acc: 0.9056\n",
            "Epoch 8/20\n",
            "60000/60000 [==============================] - 7s 116us/step - loss: 0.3320 - acc: 0.9071\n",
            "Epoch 9/20\n",
            "60000/60000 [==============================] - 7s 117us/step - loss: 0.3261 - acc: 0.9088\n",
            "Epoch 10/20\n",
            "60000/60000 [==============================] - 7s 125us/step - loss: 0.3213 - acc: 0.9100\n",
            "Epoch 11/20\n",
            "60000/60000 [==============================] - 8s 126us/step - loss: 0.3171 - acc: 0.9117\n",
            "Epoch 12/20\n",
            "60000/60000 [==============================] - 7s 116us/step - loss: 0.3135 - acc: 0.9124\n",
            "Epoch 13/20\n",
            "60000/60000 [==============================] - 7s 116us/step - loss: 0.3102 - acc: 0.9129\n",
            "Epoch 14/20\n",
            "60000/60000 [==============================] - 7s 116us/step - loss: 0.3074 - acc: 0.9144\n",
            "Epoch 15/20\n",
            "60000/60000 [==============================] - 7s 116us/step - loss: 0.3048 - acc: 0.9156\n",
            "Epoch 16/20\n",
            "60000/60000 [==============================] - 7s 116us/step - loss: 0.3025 - acc: 0.9160\n",
            "Epoch 17/20\n",
            "60000/60000 [==============================] - 7s 116us/step - loss: 0.3004 - acc: 0.9164\n",
            "Epoch 18/20\n",
            "60000/60000 [==============================] - 7s 116us/step - loss: 0.2985 - acc: 0.9169\n",
            "Epoch 19/20\n",
            "60000/60000 [==============================] - 7s 116us/step - loss: 0.2966 - acc: 0.9176\n",
            "Epoch 20/20\n",
            "60000/60000 [==============================] - 7s 118us/step - loss: 0.2950 - acc: 0.9179\n",
            "10000/10000 [==============================] - 1s 63us/step\n",
            "accuracy:  [0.28722512592375277, 0.9194]\n"
          ],
          "name": "stdout"
        }
      ]
    },
    {
      "metadata": {
        "id": "HIz9h1VfUhFW",
        "colab_type": "code",
        "colab": {
          "base_uri": "https://localhost:8080/",
          "height": 731
        },
        "outputId": "4a83a317-9e9e-43d1-a8e1-523df02d538c"
      },
      "cell_type": "code",
      "source": [
        "model2 = Sequential()\n",
        "\n",
        "model2.add(Dense(100, activation=\"relu\", input_dim=x_train_clean.shape[1]))\n",
        "model2.add(Dense(nb_classes, activation=\"softmax\"))\n",
        "\n",
        "\n",
        "model2.compile(loss='categorical_crossentropy',\n",
        "              optimizer='sgd',\n",
        "              metrics=['accuracy'])\n",
        "\n",
        "model2.fit(x_train_clean, y_train_clean, epochs=20)\n",
        "\n",
        "score2 = model2.evaluate(x_test_clean, y_test_clean)\n",
        "\n",
        "print(\"accuracy: \", score2)"
      ],
      "execution_count": 41,
      "outputs": [
        {
          "output_type": "stream",
          "text": [
            "Epoch 1/20\n",
            "60000/60000 [==============================] - 8s 128us/step - loss: 0.6444 - acc: 0.8379\n",
            "Epoch 2/20\n",
            "60000/60000 [==============================] - 8s 127us/step - loss: 0.3393 - acc: 0.9054\n",
            "Epoch 3/20\n",
            "60000/60000 [==============================] - 8s 127us/step - loss: 0.2917 - acc: 0.9184\n",
            "Epoch 4/20\n",
            "60000/60000 [==============================] - 8s 128us/step - loss: 0.2620 - acc: 0.9267\n",
            "Epoch 5/20\n",
            "60000/60000 [==============================] - 8s 127us/step - loss: 0.2398 - acc: 0.9334\n",
            "Epoch 6/20\n",
            "60000/60000 [==============================] - 8s 127us/step - loss: 0.2217 - acc: 0.9377\n",
            "Epoch 7/20\n",
            "60000/60000 [==============================] - 8s 127us/step - loss: 0.2066 - acc: 0.9421\n",
            "Epoch 8/20\n",
            "60000/60000 [==============================] - 8s 127us/step - loss: 0.1937 - acc: 0.9459\n",
            "Epoch 9/20\n",
            "60000/60000 [==============================] - 8s 127us/step - loss: 0.1822 - acc: 0.9486\n",
            "Epoch 10/20\n",
            "60000/60000 [==============================] - 8s 127us/step - loss: 0.1722 - acc: 0.9522\n",
            "Epoch 11/20\n",
            "60000/60000 [==============================] - 8s 127us/step - loss: 0.1632 - acc: 0.9540\n",
            "Epoch 12/20\n",
            "60000/60000 [==============================] - 8s 126us/step - loss: 0.1552 - acc: 0.9567\n",
            "Epoch 13/20\n",
            "60000/60000 [==============================] - 8s 127us/step - loss: 0.1479 - acc: 0.9588\n",
            "Epoch 14/20\n",
            "60000/60000 [==============================] - 8s 127us/step - loss: 0.1413 - acc: 0.9606\n",
            "Epoch 15/20\n",
            "60000/60000 [==============================] - 8s 129us/step - loss: 0.1353 - acc: 0.9626\n",
            "Epoch 16/20\n",
            "60000/60000 [==============================] - 8s 136us/step - loss: 0.1297 - acc: 0.9641\n",
            "Epoch 17/20\n",
            "60000/60000 [==============================] - 8s 134us/step - loss: 0.1246 - acc: 0.9656\n",
            "Epoch 18/20\n",
            "60000/60000 [==============================] - 8s 126us/step - loss: 0.1199 - acc: 0.9667\n",
            "Epoch 19/20\n",
            "60000/60000 [==============================] - 8s 127us/step - loss: 0.1155 - acc: 0.9682\n",
            "Epoch 20/20\n",
            "60000/60000 [==============================] - 8s 127us/step - loss: 0.1114 - acc: 0.9692\n",
            "10000/10000 [==============================] - 1s 67us/step\n",
            "accuracy:  [0.11855842604264617, 0.965]\n"
          ],
          "name": "stdout"
        }
      ]
    }
  ]
}